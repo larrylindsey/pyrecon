{
 "metadata": {
  "name": "",
  "signature": "sha256:120a5889db0fe69e02d29fe1855a3461406694a0f38af449b51f021538d21ec9"
 },
 "nbformat": 3,
 "nbformat_minor": 0,
 "worksheets": [
  {
   "cells": [
    {
     "cell_type": "code",
     "collapsed": false,
     "input": [
      "import pyrecon\n",
      "from pyrecon.tools.measurementTools import ContourGraph"
     ],
     "language": "python",
     "metadata": {},
     "outputs": [
      {
       "output_type": "stream",
       "stream": "stdout",
       "text": [
        "Problem importing PySide. You will not be able to use GUI functions.\n"
       ]
      }
     ],
     "prompt_number": 1
    },
    {
     "cell_type": "code",
     "collapsed": false,
     "input": [
      "# Instructions:\n",
      "#  Set ser_path to the absolute path of the folder containing your series\n",
      "#  Set ser_name to the name of the series.\n",
      "#  Set trace_filter to a regexp that will match the names of your SER traces.\n",
      "# For instance, if you have a .ser file at /nfs/data1/public/Team Foo/Bar/Baz.ser\n",
      "# then ser_path = '/nfs/data1/public/Team Foo/Bar/' # <-- note trailing /\n",
      "# and ser_name = 'Baz'\n",
      "ser_path = '/home/larry/Series/FPNCT/'\n",
      "ser_name = 'FPNCT'\n",
      "trace_filter = '.*SER.*'"
     ],
     "language": "python",
     "metadata": {},
     "outputs": [],
     "prompt_number": 2
    },
    {
     "cell_type": "code",
     "collapsed": false,
     "input": [
      "series = pyrecon.openSeries(ser_path + ser_name + '.ser')"
     ],
     "language": "python",
     "metadata": {},
     "outputs": [
      {
       "output_type": "stream",
       "stream": "stdout",
       "text": [
        "Attempting to load sections... "
       ]
      },
      {
       "output_type": "stream",
       "stream": "stdout",
       "text": [
        " SUCCESS!\n"
       ]
      }
     ],
     "prompt_number": 3
    },
    {
     "cell_type": "code",
     "collapsed": false,
     "input": [
      "ser_contours = series.getContours(trace_filter)\n",
      "print 'Found', len(ser_contours), 'SER traces:'\n",
      "for key in ser_contours:\n",
      "    print key"
     ],
     "language": "python",
     "metadata": {},
     "outputs": [
      {
       "output_type": "stream",
       "stream": "stdout",
       "text": [
        "Found 8 SER traces:\n",
        "SERPRspine1pr\n",
        "SERPRspine1\n",
        "d05SER\n",
        "scale cube SER\n",
        "d03SER\n",
        "d01SER\n",
        "d13SER\n",
        "d09SER\n"
       ]
      }
     ],
     "prompt_number": 4
    },
    {
     "cell_type": "code",
     "collapsed": false,
     "input": [
      "graphs = list()\n",
      "for key in ser_contours:\n",
      "    graphs.append(ContourGraph(ser_contours[key]))"
     ],
     "language": "python",
     "metadata": {},
     "outputs": [],
     "prompt_number": 5
    },
    {
     "cell_type": "code",
     "collapsed": false,
     "input": [
      "for graph, key in zip(graphs, ser_contours.keys()):\n",
      "    graph.writeComplexityCSV(ser_name + '_' + key + '.csv')"
     ],
     "language": "python",
     "metadata": {},
     "outputs": [],
     "prompt_number": 6
    },
    {
     "cell_type": "code",
     "collapsed": false,
     "input": [
      "!ls *.csv"
     ],
     "language": "python",
     "metadata": {},
     "outputs": [
      {
       "output_type": "stream",
       "stream": "stdout",
       "text": [
        "FPNCT_d01SER.csv  FPNCT_d03SER.csv  FPNCT_d05SER.csv  FPNCT_d09SER.csv\tFPNCT_d13SER.csv  FPNCT_scale cube SER.csv  FPNCT_SERPRspine1.csv  FPNCT_SERPRspine1pr.csv\r\n"
       ]
      }
     ],
     "prompt_number": 7
    },
    {
     "cell_type": "code",
     "collapsed": false,
     "input": [],
     "language": "python",
     "metadata": {},
     "outputs": []
    }
   ],
   "metadata": {}
  }
 ]
}